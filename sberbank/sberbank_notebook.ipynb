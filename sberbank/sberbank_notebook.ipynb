{
 "cells": [
  {
   "cell_type": "markdown",
   "metadata": {},
   "source": [
    "## Kaggle: Sberbank\n"
   ]
  },
  {
   "cell_type": "markdown",
   "metadata": {},
   "source": [
    "The goal of Sberbank Russian Housing Market competition is to predict the log housing price based on a number of real estate features and economic indicators. Let's import the libraries and examine the data."
   ]
  },
  {
   "cell_type": "code",
   "execution_count": 1,
   "metadata": {},
   "outputs": [
    {
     "name": "stderr",
     "output_type": "stream",
     "text": [
      "/usr/local/lib/python2.7/dist-packages/sklearn/cross_validation.py:44: DeprecationWarning: This module was deprecated in version 0.18 in favor of the model_selection module into which all the refactored classes and functions are moved. Also note that the interface of the new CV iterators are different from that of this module. This module will be removed in 0.20.\n",
      "  \"This module will be removed in 0.20.\", DeprecationWarning)\n",
      "Using Theano backend.\n"
     ]
    }
   ],
   "source": [
    "import pandas as pd\n",
    "import numpy as np\n",
    "\n",
    "import matplotlib.pyplot as plt\n",
    "import seaborn as sns\n",
    "from datetime import datetime\n",
    "from scipy import stats\n",
    "\n",
    "from sklearn.linear_model import LassoCV\n",
    "from sklearn.ensemble import RandomForestRegressor\n",
    "from sklearn.preprocessing import LabelEncoder\n",
    "\n",
    "import xgboost as xgb\n",
    "\n",
    "from keras.models import Sequential\n",
    "from keras.layers import Dense, Dropout, Activation\n",
    "from keras.layers.normalization import BatchNormalization\n",
    "\n",
    "np.random.seed(0)\n"
   ]
  },
  {
   "cell_type": "code",
   "execution_count": 2,
   "metadata": {
    "collapsed": true
   },
   "outputs": [],
   "source": [
    "# load data\n",
    "macro_cols = [\"balance_trade\", \"average_provision_of_build_contract\",\n",
    "              \"micex_rgbi_tr\", \"micex_cbi_tr\", \"mortgage_value\", \"mortgage_rate\", \"cpi\", \"ppi\",\n",
    "              \"income_per_cap\", \"rent_price_4+room_bus\", \"balance_trade_growth\"]\n",
    "        \n",
    "train_df = pd.read_csv(\"./data/train.csv\", parse_dates = ['timestamp'])\n",
    "test_df  = pd.read_csv(\"./data/test.csv\", parse_dates=['timestamp'])    \n",
    "macro_df = pd.read_csv(\"./data/macro.csv\", parse_dates=['timestamp'], usecols=['timestamp'] + macro_cols)\n",
    "            \n",
    "train_df['price_doc'] = np.log1p(train_df['price_doc'])"
   ]
  },
  {
   "cell_type": "markdown",
   "metadata": {},
   "source": [
    "Let's see how many missing values we have"
   ]
  },
  {
   "cell_type": "code",
   "execution_count": 5,
   "metadata": {
    "collapsed": true
   },
   "outputs": [],
   "source": [
    "#nan values\n",
    "train_na = (train_df.isnull().sum() / len(train_df)) * 100\n",
    "train_na = train_na.drop(train_na[train_na == 0].index).sort_values(ascending=False)\n",
    "\n",
    "#missing data visualization\n",
    "plt.figure()\n",
    "plt.xticks(rotation='90')\n",
    "sns.barplot(x=train_na.index,y=train_na)\n",
    "plt.title(\"percent missing data by feature\")\n",
    "plt.ylabel(\"% missing\")\n",
    "plt.tight_layout()\n",
    "plt.show()"
   ]
  },
  {
   "cell_type": "code",
   "execution_count": null,
   "metadata": {
    "collapsed": true
   },
   "outputs": [],
   "source": []
  }
 ],
 "metadata": {
  "kernelspec": {
   "display_name": "Python 2",
   "language": "python",
   "name": "python2"
  },
  "language_info": {
   "codemirror_mode": {
    "name": "ipython",
    "version": 2
   },
   "file_extension": ".py",
   "mimetype": "text/x-python",
   "name": "python",
   "nbconvert_exporter": "python",
   "pygments_lexer": "ipython2",
   "version": "2.7.6"
  }
 },
 "nbformat": 4,
 "nbformat_minor": 2
}
